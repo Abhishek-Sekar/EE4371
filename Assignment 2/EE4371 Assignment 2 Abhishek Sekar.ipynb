{
 "cells": [
  {
   "cell_type": "markdown",
   "metadata": {},
   "source": [
    "3.Describe an efficient algorithm for finding the ten largest elements in a sequence of size n. What\n",
    "is the running time of your algorithm?\n"
   ]
  },
  {
   "cell_type": "code",
   "execution_count": null,
   "metadata": {},
   "outputs": [],
   "source": [
    "def ten_largest(arr):\n",
    "    if(len(arr)-10<10):  #find smaller values in this case using a selection sort based approach\n",
    "        for i in range(len(arr)-10):\n",
    "            min_index = i\n",
    "            for j in range(i+1,len(arr)):\n",
    "                if(arr[j]<arr[min_index]):\n",
    "                    min_index = j\n",
    "                    \n",
    "            arr[i],arr[min_index] = arr[min_index],arr[i]\n",
    "            \n",
    "    else:                             \n",
    "        for i in range(10): #find the larger values in this case using a bubble sort based approach\n",
    "            for j in range(len(arr)-i-1):\n",
    "                if(arr[j] > arr[j+1]):\n",
    "                    arr[j],arr[j+1] = arr[j+1],arr[j]\n",
    "    \n",
    "    return arr[-10:]\n",
    "arr = list(map(int,input(\"Please enter your array in a space separated fashion\").split()))\n",
    "ten_largest(arr)"
   ]
  },
  {
   "cell_type": "markdown",
   "metadata": {},
   "source": [
    "4.Use the divide and conquer integer multiplication algorithm to multiply the two binary integers\n",
    "10011011 and 10111010.\n"
   ]
  },
  {
   "cell_type": "code",
   "execution_count": null,
   "metadata": {},
   "outputs": [],
   "source": [
    "def extend_length(A,B):  #extends the length of the smaller number to make both the numbers of equal length\n",
    "    len_a = len(A)\n",
    "    len_b = len(B)\n",
    "    if (len_a > len_b):\n",
    "        B = '0'*(len_a - len_b) + B\n",
    "    elif (len_b > len_a):\n",
    "        A = '0'*(len_b - len_a) + A\n",
    "    return A,B\n",
    "\n",
    "def add(A, B):  #like a ripple carry adder, computes the sum of A and B in binary\n",
    "    if(len(A) != len(B)):\n",
    "        A,B = extend_length(A,B)\n",
    "    sum_AB = \"\"\n",
    "    carry_AB = 0\n",
    "    for i in range(len(A) - 1,-1,-1):\n",
    "        a,b = int(A[i]),int(B[i])\n",
    "        \n",
    "        #using full adder logic\n",
    "        s   = (a ^ b) ^ carry_AB\n",
    "        sum_AB = str(s) + sum_AB\n",
    "        carry_AB = (a & b) | (a & carry_AB) | (b & carry_AB)\n",
    "    \n",
    "    if(carry_AB): #overflow\n",
    "        sum_AB = '1'+ sum_AB\n",
    "    return sum_AB\n",
    "\n",
    "def multiply(A, B): #Karatsuba divide and conquer multiplication\n",
    "    \n",
    "    if(len(A) != len(B)):\n",
    "        A,B = extend_length(A,B)\n",
    "    \n",
    "    n = len(A)\n",
    "    \n",
    "    #checking for boundary cases\n",
    "    \n",
    "    if (n == 0):\n",
    "        return 0\n",
    "    if (n == 1):\n",
    "        return int(A)&int(B)\n",
    "\n",
    "  #split A into Al and Ar right at the \"middle\"\n",
    "    A_l , A_r = A[:n//2],A[n//2:]\n",
    "    B_l , B_r = B[:n//2],B[n//2:]\n",
    "    \n",
    "    \n",
    "    P1 = multiply(A_l, B_l) #multiplication of the MSB side\n",
    "    P2 = multiply(A_r, B_r) #multiplication of the LSB side\n",
    "    P3 = multiply(add(A_l, A_r), add(B_l, B_r)) #for cross terms\n",
    "    \n",
    "    #print('Karatsuba algorithm in action:')\n",
    "    #print (P1,' x ' ,(1 << 2*(n-n//2)), ' + ', ' ( ',P3,' - ',P1,' - ',P2,' ) x ',(1 << (n-n//2)), ' + ', P2)\n",
    "    \n",
    "    return P1 * (1 << 2*(n-n//2)) + (P3-P1-P2)*(1 << (n-n//2)) + P2\n",
    "\n",
    "A = \"10011011\"\n",
    "B = \"10111010\"\n",
    "\n",
    "print(\"The answer is\" ,bin(multiply(A,B))[2:],'or in decimal,',multiply(A,B))\n",
    "\n"
   ]
  },
  {
   "cell_type": "markdown",
   "metadata": {},
   "source": [
    "5.You are given a unimodal array of n distinct elements, meaning that its entries are in increasing\n",
    "order up until its maximum elements, after which its elements are in decreasing order. Give an\n",
    "algorithm to compute the maximum element of a unimodal array that runs in 𝑂(𝑙𝑜𝑔 𝑛) time."
   ]
  },
  {
   "cell_type": "code",
   "execution_count": null,
   "metadata": {},
   "outputs": [],
   "source": [
    "def find_max(arr, left , right):\n",
    "    if (right>=left):\n",
    "        mid = (left + right)//2 #computing the mid point\n",
    "        if ((arr[mid] > arr[mid +1]) and (arr[mid] > arr[mid -1])): #checking if the mid point is the maximum\n",
    "            return arr[mid]\n",
    "        elif ((arr[mid] > arr[mid +1]) and (arr[mid] < arr[mid -1])): # if the mid point is on the decreasing side of the array\n",
    "            right = mid -1\n",
    "            return find_max(arr, left, right) #recurse over the other part of the array\n",
    "        elif ((arr[mid] < arr[mid +1]) and (arr[mid] > arr[mid -1])): #if the mid point is on the increasing side of the array\n",
    "            left = mid +1\n",
    "            return find_max(arr, left, right) #recurse over the other part of the array\n",
    "    else: #error for a non-unimodal array\n",
    "        return -1\n",
    "    \n",
    "N = int(input(\"Enter the number of elements in your array\"))\n",
    "arr = list(map(int,input(\"Please enter your unimodal array in a space seperated fashion\").split()))\n",
    "find_max(arr,0,N-1)"
   ]
  },
  {
   "cell_type": "markdown",
   "metadata": {},
   "source": [
    "6.Towers of Hanoi. Given a game board with three pegs and a set of disks of different diameter all\n",
    "stacked from smallest to largest on the leftmost peg, moves all of the disks to the rightmost peg\n",
    "following these two rules. First, only one disk may be moved at a time. Second, a larger diameter\n",
    "disk may never be placed on a smaller disk. Any number of disks can be used. Implement this in\n",
    "Python."
   ]
  },
  {
   "cell_type": "code",
   "execution_count": null,
   "metadata": {},
   "outputs": [],
   "source": [
    "def Towers_of_Hanoi(n , source_peg, dest_peg,inter_peg ):\n",
    "    if (n==1):\n",
    "        print (\"Move disk number 1 from\",source_peg,\"to\",dest_peg)\n",
    "        return\n",
    "    Towers_of_Hanoi(n-1, source_peg, inter_peg, dest_peg) #stacking n-1 discs from the \"left peg\" to the \"middle\"one\n",
    "    print (\"Move disk number\",n,\"from\",source_peg,\"to\",dest_peg)\n",
    "    Towers_of_Hanoi(n-1, inter_peg, dest_peg, source_peg) #stacking n-1 discs from the \"middle peg\" to the \"right\"one,continue the problem\n",
    "\n",
    "N = int(input('Please enter the number of disks in your setup'))\n",
    "Towers_of_Hanoi(N,'leftmost peg','rightmost peg','middle peg')"
   ]
  }
 ],
 "metadata": {
  "kernelspec": {
   "display_name": "Python 3 (ipykernel)",
   "language": "python",
   "name": "python3"
  },
  "language_info": {
   "codemirror_mode": {
    "name": "ipython",
    "version": 3
   },
   "file_extension": ".py",
   "mimetype": "text/x-python",
   "name": "python",
   "nbconvert_exporter": "python",
   "pygments_lexer": "ipython3",
   "version": "3.7.6"
  }
 },
 "nbformat": 4,
 "nbformat_minor": 4
}
