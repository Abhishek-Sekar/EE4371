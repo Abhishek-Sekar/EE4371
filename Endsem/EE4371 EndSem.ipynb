{
 "cells": [
  {
   "cell_type": "markdown",
   "metadata": {},
   "source": [
    "## Question 1: You are given an array of n elements, and you notice that some of the elements are duplicates; that is,they appear more than once in array. Show how to remove all duplicates from the array in time O(nlogn)"
   ]
  },
  {
   "cell_type": "code",
   "execution_count": 23,
   "metadata": {},
   "outputs": [
    {
     "name": "stdout",
     "output_type": "stream",
     "text": [
      "Input Array:[68, 66, 44, 44, 3, 3, 2, 3, 4, 5, 6, 7, 8, 9, 2, 3, 5, 1, 0, -1, -5, -6.7, -8]\n",
      "Unique Array:[-8, -6.7, -5, -1, 0, 1, 2, 3, 4, 5, 6, 7, 8, 9, 44, 66, 68]\n"
     ]
    }
   ],
   "source": [
    "#Code for merge sort\n",
    "\n",
    "def merge(L,R): # function to merge the left part and the right part into a sorted array \n",
    "    Result = [] #initialising the result array\n",
    "    i = 0\n",
    "    j = 0\n",
    "    n1 = len(L)\n",
    "    n2 = len(R)\n",
    "    \n",
    "    while (i < n1 and j < n2):\n",
    "        if (L[i] <= R[j]):\n",
    "            Result.append(L[i]) #append the smaller element\n",
    "            i += 1              #update i\n",
    "        else:\n",
    "            Result.append(R[j])\n",
    "            j += 1\n",
    " \n",
    "    #Copy the remaining elements of L, should there be any\n",
    "    while (i < n1):\n",
    "        Result.append(L[i])\n",
    "        i += 1\n",
    "        \n",
    "    #Copy the remaining elements of R, should there be any\n",
    "    while (j < n2):\n",
    "        Result.append(R[j])\n",
    "        j += 1\n",
    "            \n",
    "    return Result\n",
    "\n",
    "def mergesort(A): #function that performs merge sort on an array A\n",
    "    n = len(A)\n",
    "    \n",
    "    if(n <= 1):\n",
    "        return A\n",
    "    \n",
    "    else:\n",
    "    \n",
    "        #The divide and conquer step, where we're splitting A into L and R portions\n",
    "        L = mergesort(A[:n//2]) \n",
    "        R = mergesort(A[n//2:])\n",
    "    \n",
    "    return merge(L,R)\n",
    "        \n",
    "\n",
    "def unique(A): #removes all duplicates from array A\n",
    "    temp = []\n",
    "    A = mergesort(A) #O(nlogn) step\n",
    "    ele = A[0]\n",
    "    temp.append(A[0])\n",
    "    for i in range(1,len(A)):\n",
    "        if(A[i] != ele):\n",
    "            ele = A[i]  #make ele the new element to check in the future steps\n",
    "            temp.append(A[i]) #append every unique element\n",
    "\n",
    "    return temp\n",
    "\n",
    "print(f'Input Array:{[68,66,44,44,3,3,2,3,4,5,6,7,8,9,2,3,5,1,0,-1,-5,-6.7,-8]}')\n",
    "print(f'Unique Array:{unique([68,66,44,44,3,3,2,3,4,5,6,7,8,9,2,3,5,1,0,-1,-5,-6.7,-8])}')   "
   ]
  },
  {
   "cell_type": "markdown",
   "metadata": {},
   "source": [
    "## Question 2: Given an array A of n integers in the range [0, n^2 - 1], describe a simple method for sorting A in time O(n)"
   ]
  },
  {
   "cell_type": "code",
   "execution_count": 3,
   "metadata": {},
   "outputs": [
    {
     "name": "stdout",
     "output_type": "stream",
     "text": [
      "Input array: [40, 12, 45, 32, 33, 1, 22]\n",
      "Sorted array: [1, 12, 22, 32, 33, 40, 45]\n"
     ]
    }
   ],
   "source": [
    "#radix sort based approach to solve the question\n",
    "\n",
    "def countsort(arr,n,scale): #hashing based sort n -> base scale -> scale of digit\n",
    "    \n",
    "    output_arr = [0]*n #output array\n",
    "    count      = [0]*n #count array\n",
    "    \n",
    "    #storing the counts\n",
    "    for i in range(n):\n",
    "        count[(arr[i]//scale) % n] += 1\n",
    "        \n",
    "    #making each count the sum of the previous counts\n",
    "    #this will indicate the actual position of this digit in output[]\n",
    "    for i in range(1,n):\n",
    "        count[i] += count[i-1]\n",
    "        \n",
    "    #make the output\n",
    "    for i in range(n-1,-1,-1): \n",
    "        \n",
    "        output_arr[count[ (arr[i] // scale) % n] - 1] = arr[i]\n",
    "        count[(arr[i] // scale) % n] -= 1\n",
    "        \n",
    "    arr[:] = output_arr[:] #thus now arr is sorted according to scale\n",
    "    \n",
    "        \n",
    "def radixsort(arr,n):\n",
    "    \n",
    "    #first do countsort with scale = 1 with base n on the first digit\n",
    "    print(f'Input array: {arr}')\n",
    "    countsort(arr,n,1)\n",
    "\n",
    "    #now do countsort with scale = n with base n on the second digit\n",
    "    countsort(arr,n,n)\n",
    "    \n",
    "    print(f'Sorted array: {arr}')\n",
    "        \n",
    "arr = [40, 12, 45, 32, 33, 1, 22]\n",
    "n = len(arr)\n",
    "     \n",
    "radixsort(arr, n)\n",
    "       \n",
    "    \n",
    "    "
   ]
  },
  {
   "cell_type": "markdown",
   "metadata": {},
   "source": [
    "## Question 3: Describe a non-recursive algorithm for enumerating all permutations of the numbers {1, 2, ...,n} using an explicit stack."
   ]
  },
  {
   "cell_type": "code",
   "execution_count": 25,
   "metadata": {},
   "outputs": [
    {
     "name": "stdout",
     "output_type": "stream",
     "text": [
      "Permutation 1:[3, 1, 2]\n",
      "Permutation 2:[1, 3, 2]\n",
      "Permutation 3:[1, 2, 3]\n",
      "Permutation 4:[3, 2, 1]\n",
      "Permutation 5:[2, 3, 1]\n",
      "Permutation 6:[2, 1, 3]\n"
     ]
    }
   ],
   "source": [
    "def permutations(n): #give natural number n and the function generates permutations of {1,2,...n}\n",
    "    \n",
    "    stack = [] #explicit stack used\n",
    "    permutation_list = [] #list used to store the various permutations\n",
    "    \n",
    "    for i in range(1,n+1): #main loop\n",
    "        \n",
    "        if(i == 1):\n",
    "            permutation_list.append([1]) \n",
    "        \n",
    "        else:\n",
    "            temp_list = []\n",
    "        \n",
    "            for lists in permutation_list: #for each 'sub' permutation\n",
    "                \n",
    "                \n",
    "                for j in range(i):\n",
    "                    \n",
    "                    list_copy = lists[:] #a copy of the list\n",
    "                    stack = []\n",
    "                   \n",
    "                \n",
    "                    for k in range(j):\n",
    "                        \n",
    "                        \n",
    "                        stack.append(list_copy.pop())\n",
    "                    \n",
    "                    stack.append(i)  #incorporate the ith digit at the jth location\n",
    "                \n",
    "                    for l in range(len(list_copy)):\n",
    "                        stack.append(list_copy.pop())\n",
    "                    \n",
    "                \n",
    "                    \n",
    "                    temp_list.append(stack) #create a new 'sub' permutation\n",
    "                \n",
    "                \n",
    "                    \n",
    "            permutation_list = temp_list\n",
    "        \n",
    "                \n",
    "                \n",
    "    for i,permutation in enumerate(permutation_list): #print all the permutations\n",
    "        \n",
    "        print(f\"Permutation {i+1}:{permutation}\") \n",
    "        \n",
    "            \n",
    "permutations(3)           \n",
    "    \n",
    "    \n",
    "    \n",
    "\n"
   ]
  },
  {
   "cell_type": "markdown",
   "metadata": {},
   "source": [
    "## Question 5. Describe an efficient greedy algorithm in python for making change for a specified value using a minimumnumber of coins, assuming there are four denominations of coins (called quarters, dimes, nickels, and pennies), with values 25, 10, 5, and 1, respectively."
   ]
  },
  {
   "cell_type": "code",
   "execution_count": 75,
   "metadata": {},
   "outputs": [
    {
     "name": "stdout",
     "output_type": "stream",
     "text": [
      "Recommended change coins of the following denomination: [25, 10, 1, 1]\n"
     ]
    }
   ],
   "source": [
    "def Min_change(val): #compute change using minimum number of coins for the given value using greedy approach\n",
    "    \n",
    "    denominations = [1,5,10,25]\n",
    "    \n",
    "    i = len(denominations) - 1\n",
    "    \n",
    "    coins = [] #list to store the change\n",
    "    \n",
    "    while(i >= 0): #iterate through different denominations\n",
    "        \n",
    "        #find coins using greedy approach\n",
    "        while(val >= denominations[i]): #exhaust the use of that coin\n",
    "            val -= denominations[i]\n",
    "            coins.append(denominations[i])\n",
    "            \n",
    "        i -= 1\n",
    "        \n",
    "    \n",
    "    print(f\"Recommended change coins of the following denomination: {coins}\")\n",
    "            \n",
    "    \n",
    "Min_change(37)   "
   ]
  },
  {
   "cell_type": "markdown",
   "metadata": {},
   "source": [
    "## Question 6: Design an efficient algorithm in python for the matrix chain multiplication problem that outputs a fully parenthesized expression for how to multiply the matrices in the chain using the minimum number of operations."
   ]
  },
  {
   "cell_type": "code",
   "execution_count": 9,
   "metadata": {},
   "outputs": [],
   "source": [
    "import numpy as np\n",
    "import sys"
   ]
  },
  {
   "cell_type": "code",
   "execution_count": 18,
   "metadata": {},
   "outputs": [
    {
     "name": "stdout",
     "output_type": "stream",
     "text": [
      "Optimal Parentheses:\n",
      "( ( [M1] [M2] ) [M3] )  \n",
      "Optimal Multiplications\n",
      "18\n"
     ]
    }
   ],
   "source": [
    "\n",
    "def print_parantheses(i,j,n,bracket):\n",
    "    \n",
    "    if(i == j): #if only one matrix is left in the current segment\n",
    "        print(f'[M{i}]',end = \" \")\n",
    "        return\n",
    "    \n",
    "    print('(',end = \" \")\n",
    "    \n",
    "    \n",
    "    print_parantheses(i,bracket[i][j],n,bracket)\n",
    "    print_parantheses(bracket[i][j]+1,j,n,bracket)\n",
    "    \n",
    "    print(')', end = \" \")\n",
    "    \n",
    "def matrix_chain(p,n):\n",
    "    \n",
    "    dp = [[0 for x in range(n)] for x in range(n)]\n",
    "    bracket = [[0 for x in range(n)] for x in range(n)]\n",
    "    \n",
    "    for l in range(2,n): #l chain length\n",
    "        \n",
    "        for i in range(1,n-l+1):\n",
    "            \n",
    "            j = i+l-1\n",
    "            dp[i][j] = sys.maxsize #some large number\n",
    "            for k in range(i,j):\n",
    "                \n",
    "                q = dp[i][k] + dp[k + 1][j] + p[i - 1]*p[k]*p[j]\n",
    "                \n",
    "                if(q < dp[i][j]):\n",
    "                    dp[i][j] = q\n",
    "                    bracket[i][j] = k\n",
    "                    \n",
    "                \n",
    "                \n",
    "            \n",
    "    print('Optimal Parentheses:')\n",
    "    print_parantheses(1,n-1,n,bracket)\n",
    "    print(\" \")\n",
    "    print('Optimal Multiplications')\n",
    "    print(dp[1][n-1])\n",
    "    \n",
    "    \n",
    "matrix_chain([1,2,3,4],len([1,2,3,4]))   \n",
    "    \n",
    "    \n",
    "    \n",
    "    \n",
    "    "
   ]
  }
 ],
 "metadata": {
  "kernelspec": {
   "display_name": "Python 3 (ipykernel)",
   "language": "python",
   "name": "python3"
  },
  "language_info": {
   "codemirror_mode": {
    "name": "ipython",
    "version": 3
   },
   "file_extension": ".py",
   "mimetype": "text/x-python",
   "name": "python",
   "nbconvert_exporter": "python",
   "pygments_lexer": "ipython3",
   "version": "3.7.6"
  }
 },
 "nbformat": 4,
 "nbformat_minor": 4
}
