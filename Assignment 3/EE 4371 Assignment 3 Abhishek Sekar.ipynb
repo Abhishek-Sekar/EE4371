{
 "cells": [
  {
   "cell_type": "code",
   "execution_count": 1,
   "metadata": {},
   "outputs": [
    {
     "name": "stdout",
     "output_type": "stream",
     "text": [
      "[-8, -6.7, -5, -1, 0, 1, 2, 3, 4, 5, 6, 7, 8, 9, 44, 66, 68]\n"
     ]
    }
   ],
   "source": [
    "#Algorithm for question 3\n",
    "\n",
    "#Code for merge sort\n",
    "\n",
    "def merge(L,R): # function to merge the left part and the right part into a sorted array \n",
    "    Result = [] #initialising the result array\n",
    "    i = 0\n",
    "    j = 0\n",
    "    n1 = len(L)\n",
    "    n2 = len(R)\n",
    "    \n",
    "    while (i < n1 and j < n2):\n",
    "        if (L[i] <= R[j]):\n",
    "            Result.append(L[i]) #append the smaller element\n",
    "            i += 1              #update i\n",
    "        else:\n",
    "            Result.append(R[j])\n",
    "            j += 1\n",
    " \n",
    "    #Copy the remaining elements of L, should there be any\n",
    "    while (i < n1):\n",
    "        Result.append(L[i])\n",
    "        i += 1\n",
    "        \n",
    "    #Copy the remaining elements of R, should there be any\n",
    "    while (j < n2):\n",
    "        Result.append(R[j])\n",
    "        j += 1\n",
    "            \n",
    "    return Result\n",
    "\n",
    "def mergesort(A): #function that performs merge sort on an array A\n",
    "    n = len(A)\n",
    "    \n",
    "    if(n <= 1):\n",
    "        return A\n",
    "    \n",
    "    else:\n",
    "    \n",
    "        #The divide and conquer step, where we're splitting A into L and R portions\n",
    "        L = mergesort(A[:n//2]) \n",
    "        R = mergesort(A[n//2:])\n",
    "    \n",
    "    return merge(L,R)\n",
    "        \n",
    "\n",
    "def unique(A): #removes all duplicates from array A\n",
    "    temp = []\n",
    "    A = mergesort(A) #O(nlogn) step\n",
    "    ele = A[0]\n",
    "    temp.append(A[0])\n",
    "    for i in range(1,len(A)):\n",
    "        if(A[i] != ele):\n",
    "            ele = A[i]  #make ele the new element to check in the future steps\n",
    "            temp.append(A[i]) #append every unique element\n",
    "\n",
    "    return temp\n",
    "        \n",
    "print(unique([68,66,44,44,3,3,2,3,4,5,6,7,8,9,2,3,5,1,0,-1,-5,-6.7,-8]))   "
   ]
  },
  {
   "cell_type": "code",
   "execution_count": 2,
   "metadata": {},
   "outputs": [
    {
     "name": "stdout",
     "output_type": "stream",
     "text": [
      "[0, 1, 2, 66, 3, 68, 4, 5, 6, 7, 8, 9, 44, -8, -6.7, -5, -1]\n"
     ]
    }
   ],
   "source": [
    "#Alternate approach for question 3\n",
    "\n",
    "def unique_2(A): #O(n) approach to get rid of duplicates\n",
    "    temp = set()\n",
    "    for i in range(len(A)):\n",
    "        temp.add(A[i])\n",
    "    return list(temp)\n",
    "print(unique_2([68,66,44,44,3,3,2,3,4,5,6,7,8,9,2,3,5,1,0,-1,-5,-6.7,-8]))    "
   ]
  },
  {
   "cell_type": "code",
   "execution_count": 3,
   "metadata": {},
   "outputs": [
    {
     "name": "stdout",
     "output_type": "stream",
     "text": [
      "Type the elements of the input array in a space separated manner\n",
      "3 2 1 4\n",
      "Left queue:  [3]\n",
      "Right queue:  [2]\n",
      "Output of merge call: [2, 3, 1, 4]\n",
      "Left queue:  [1]\n",
      "Right queue:  [4]\n",
      "Output of merge call: [2, 3, 1, 4]\n",
      "Left queue:  [2, 3]\n",
      "Right queue:  [1, 4]\n",
      "Output of merge call: [1, 2, 3, 4]\n",
      "Sorted array:  [1, 2, 3, 4]\n"
     ]
    }
   ],
   "source": [
    "# Algorithm for question 5, bottom up merge sort\n",
    "\n",
    "def merge(A, temp, frm, mid, to):\n",
    " \n",
    "    k = frm\n",
    "    i = frm\n",
    "    j = mid + 1\n",
    "    \n",
    "    print('Left queue: ',A[frm:mid+1])\n",
    "    print('Right queue: ',A[mid+1:to+1])\n",
    " \n",
    "    #same as the merge step we did before, but we only do this till the mid portion as the other half of the array would have been sorted\n",
    "    while (i <= mid and j <= to):\n",
    "        if (A[i] < A[j]):\n",
    "            temp[k] = A[i]\n",
    "            i += 1\n",
    "        else:\n",
    "            temp[k] = A[j]\n",
    "            j += 1\n",
    " \n",
    "        k += 1\n",
    " \n",
    "    # copy remaining elements\n",
    "    while (i < len(A) and i <= mid):\n",
    "        temp[k] = A[i]\n",
    "        k += 1\n",
    "        i += 1\n",
    " \n",
    "    # copy back to the original list to reflect sorted order\n",
    "    for i in range(frm, to + 1):\n",
    "        A[i] = temp[i]\n",
    " \n",
    " \n",
    "def mergesort(A):\n",
    " \n",
    "    #create a copy of the array\n",
    "    temp = A.copy()\n",
    " \n",
    "    #divide the list into blocks of m \n",
    "    m = 1\n",
    "    while m <= len(A) - 1: #while m is within the length of the array\n",
    "        for i in range(0, len(A)-1, 2*m): #fragment the array\n",
    "            frm = i  #index from\n",
    "            mid = i + m - 1 #the middle index\n",
    "            to = min(i + 2*m - 1, len(A) - 1) #the index to\n",
    "            merge(A, temp, frm, mid, to) #perform the merge operation on the array we're concerned about\n",
    "            print('Output of merge call:',A)\n",
    "        m = 2*m #update m \n",
    "    return A\n",
    " \n",
    "print('Type the elements of the input array in a space separated manner')\n",
    "A = list(map(int,input().split()))\n",
    "\n",
    "print(\"Sorted array: \", mergesort(A))"
   ]
  }
 ],
 "metadata": {
  "kernelspec": {
   "display_name": "Python 3 (ipykernel)",
   "language": "python",
   "name": "python3"
  },
  "language_info": {
   "codemirror_mode": {
    "name": "ipython",
    "version": 3
   },
   "file_extension": ".py",
   "mimetype": "text/x-python",
   "name": "python",
   "nbconvert_exporter": "python",
   "pygments_lexer": "ipython3",
   "version": "3.7.6"
  }
 },
 "nbformat": 4,
 "nbformat_minor": 4
}
